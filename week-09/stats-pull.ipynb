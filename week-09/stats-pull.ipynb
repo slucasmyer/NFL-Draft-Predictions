{
 "cells": [
  {
   "cell_type": "code",
   "execution_count": 1,
   "metadata": {
    "scrolled": false
   },
   "outputs": [
    {
     "name": "stdout",
     "output_type": "stream",
     "text": [
      "Requirement already satisfied: selenium in /Users/lucas/opt/anaconda3/envs/learn-env/lib/python3.6/site-packages (3.141.0)\r\n",
      "Requirement already satisfied: urllib3 in /Users/lucas/opt/anaconda3/envs/learn-env/lib/python3.6/site-packages (from selenium) (1.25.8)\r\n"
     ]
    }
   ],
   "source": [
    "!pip install selenium\n",
    "from bs4 import BeautifulSoup as bs\n",
    "import re\n",
    "import json\n",
    "import requests as rq\n",
    "import pandas as pd\n",
    "import numpy as np\n",
    "import matplotlib.pyplot as plt\n",
    "import seaborn as sns\n",
    "import pickle\n",
    "import os\n",
    "import time\n",
    "import random\n",
    "from os import system   \n",
    "from math import floor\n",
    "from copy import deepcopy\n",
    "from selenium import webdriver\n",
    "from selenium.webdriver.common.by import By\n",
    "from selenium.webdriver.common.keys import Keys\n",
    "from selenium.webdriver.common.action_chains import ActionChains\n",
    "from selenium.common.exceptions import TimeoutException\n",
    "from selenium.webdriver.support.ui import WebDriverWait\n",
    "from selenium.webdriver.support import expected_conditions as EC\n",
    "%matplotlib inline\n",
    "\n",
    "pd.set_option('display.max_columns', 200)\n",
    "pd.set_option('display.max_colwidth', 200)"
   ]
  },
  {
   "cell_type": "code",
   "execution_count": 2,
   "metadata": {},
   "outputs": [
    {
     "data": {
      "text/html": [
       "<div>\n",
       "<style scoped>\n",
       "    .dataframe tbody tr th:only-of-type {\n",
       "        vertical-align: middle;\n",
       "    }\n",
       "\n",
       "    .dataframe tbody tr th {\n",
       "        vertical-align: top;\n",
       "    }\n",
       "\n",
       "    .dataframe thead th {\n",
       "        text-align: right;\n",
       "    }\n",
       "</style>\n",
       "<table border=\"1\" class=\"dataframe\">\n",
       "  <thead>\n",
       "    <tr style=\"text-align: right;\">\n",
       "      <th></th>\n",
       "      <th>Year</th>\n",
       "      <th>Player</th>\n",
       "      <th>Age</th>\n",
       "      <th>School</th>\n",
       "      <th>Height</th>\n",
       "      <th>Wt</th>\n",
       "      <th>40YD</th>\n",
       "      <th>Vertical</th>\n",
       "      <th>BenchReps</th>\n",
       "      <th>Broad Jump</th>\n",
       "      <th>3Cone</th>\n",
       "      <th>Shuttle</th>\n",
       "      <th>Round</th>\n",
       "      <th>Since</th>\n",
       "      <th>Until</th>\n",
       "      <th>search_name</th>\n",
       "      <th>stats</th>\n",
       "    </tr>\n",
       "    <tr>\n",
       "      <th>Pos</th>\n",
       "      <th></th>\n",
       "      <th></th>\n",
       "      <th></th>\n",
       "      <th></th>\n",
       "      <th></th>\n",
       "      <th></th>\n",
       "      <th></th>\n",
       "      <th></th>\n",
       "      <th></th>\n",
       "      <th></th>\n",
       "      <th></th>\n",
       "      <th></th>\n",
       "      <th></th>\n",
       "      <th></th>\n",
       "      <th></th>\n",
       "      <th></th>\n",
       "      <th></th>\n",
       "    </tr>\n",
       "  </thead>\n",
       "  <tbody>\n",
       "    <tr>\n",
       "      <th>C</th>\n",
       "      <td>2018</td>\n",
       "      <td>Sean Welsh</td>\n",
       "      <td>23.0</td>\n",
       "      <td>Iowa</td>\n",
       "      <td>6-3</td>\n",
       "      <td>306</td>\n",
       "      <td>5.430000</td>\n",
       "      <td>25.0000</td>\n",
       "      <td>20.00000</td>\n",
       "      <td>103.000000</td>\n",
       "      <td>7.90000</td>\n",
       "      <td>4.81000</td>\n",
       "      <td>8</td>\n",
       "      <td>2017-06-01</td>\n",
       "      <td>2018-04-20</td>\n",
       "      <td>sean welsh</td>\n",
       "      <td>NaN</td>\n",
       "    </tr>\n",
       "    <tr>\n",
       "      <th>C</th>\n",
       "      <td>2018</td>\n",
       "      <td>Coleman Shelton</td>\n",
       "      <td>22.0</td>\n",
       "      <td>Washington</td>\n",
       "      <td>6-3</td>\n",
       "      <td>292</td>\n",
       "      <td>5.240000</td>\n",
       "      <td>26.5000</td>\n",
       "      <td>23.64615</td>\n",
       "      <td>110.000000</td>\n",
       "      <td>7.62000</td>\n",
       "      <td>4.59000</td>\n",
       "      <td>8</td>\n",
       "      <td>2017-06-01</td>\n",
       "      <td>2018-04-20</td>\n",
       "      <td>coleman shelton</td>\n",
       "      <td>[coleman shelton, {'g': '3', 'tackles_solo': '7', 'tackles_assists': '2', 'tackles_total': '9', 'tackles_loss': '1.0', 'sacks': '1.0', 'def_int': '0', 'def_int_yds': '0', 'def_int_yds_per_int': ''...</td>\n",
       "    </tr>\n",
       "    <tr>\n",
       "      <th>C</th>\n",
       "      <td>2018</td>\n",
       "      <td>Frank Ragnow</td>\n",
       "      <td>21.0</td>\n",
       "      <td>Arkansas</td>\n",
       "      <td>6-5</td>\n",
       "      <td>312</td>\n",
       "      <td>5.319924</td>\n",
       "      <td>26.5097</td>\n",
       "      <td>26.00000</td>\n",
       "      <td>98.421912</td>\n",
       "      <td>7.86268</td>\n",
       "      <td>4.72272</td>\n",
       "      <td>1</td>\n",
       "      <td>2017-06-01</td>\n",
       "      <td>2018-04-20</td>\n",
       "      <td>frank ragnow</td>\n",
       "      <td>[frank ragnow, {'g': '1', 'tackles_solo': '1', 'tackles_assists': '0', 'tackles_total': '1', 'tackles_loss': '0.0', 'sacks': '0.0', 'def_int': '0', 'def_int_yds': '0', 'def_int_yds_per_int': '', '...</td>\n",
       "    </tr>\n",
       "    <tr>\n",
       "      <th>C</th>\n",
       "      <td>2018</td>\n",
       "      <td>Scott Quessenberry</td>\n",
       "      <td>22.0</td>\n",
       "      <td>UCLA</td>\n",
       "      <td>6-4</td>\n",
       "      <td>310</td>\n",
       "      <td>5.090000</td>\n",
       "      <td>33.5000</td>\n",
       "      <td>25.00000</td>\n",
       "      <td>111.000000</td>\n",
       "      <td>7.50000</td>\n",
       "      <td>4.69000</td>\n",
       "      <td>5</td>\n",
       "      <td>2017-06-01</td>\n",
       "      <td>2018-04-20</td>\n",
       "      <td>scott quessenberry</td>\n",
       "      <td>[scott quessenberry, {'g': '', 'tackles_solo': '', 'tackles_assists': '', 'tackles_total': '', 'tackles_loss': '', 'sacks': '', 'def_int': '', 'def_int_yds': '', 'def_int_yds_per_int': '', 'def_in...</td>\n",
       "    </tr>\n",
       "    <tr>\n",
       "      <th>C</th>\n",
       "      <td>2018</td>\n",
       "      <td>Billy Price</td>\n",
       "      <td>23.0</td>\n",
       "      <td>Ohio St.</td>\n",
       "      <td>6-4</td>\n",
       "      <td>305</td>\n",
       "      <td>5.319924</td>\n",
       "      <td>26.5097</td>\n",
       "      <td>23.64615</td>\n",
       "      <td>98.421912</td>\n",
       "      <td>7.86268</td>\n",
       "      <td>4.72272</td>\n",
       "      <td>1</td>\n",
       "      <td>2017-06-01</td>\n",
       "      <td>2018-04-20</td>\n",
       "      <td>billy price</td>\n",
       "      <td>[billy price, {'g': '1', 'tackles_solo': '1', 'tackles_assists': '0', 'tackles_total': '1', 'tackles_loss': '0.0', 'sacks': '0.0', 'def_int': '0', 'def_int_yds': '0', 'def_int_yds_per_int': '', 'd...</td>\n",
       "    </tr>\n",
       "  </tbody>\n",
       "</table>\n",
       "</div>"
      ],
      "text/plain": [
       "     Year              Player   Age      School Height   Wt      40YD  \\\n",
       "Pos                                                                     \n",
       "C    2018          Sean Welsh  23.0        Iowa    6-3  306  5.430000   \n",
       "C    2018     Coleman Shelton  22.0  Washington    6-3  292  5.240000   \n",
       "C    2018        Frank Ragnow  21.0    Arkansas    6-5  312  5.319924   \n",
       "C    2018  Scott Quessenberry  22.0        UCLA    6-4  310  5.090000   \n",
       "C    2018         Billy Price  23.0    Ohio St.    6-4  305  5.319924   \n",
       "\n",
       "     Vertical  BenchReps  Broad Jump    3Cone  Shuttle Round      Since  \\\n",
       "Pos                                                                       \n",
       "C     25.0000   20.00000  103.000000  7.90000  4.81000     8 2017-06-01   \n",
       "C     26.5000   23.64615  110.000000  7.62000  4.59000     8 2017-06-01   \n",
       "C     26.5097   26.00000   98.421912  7.86268  4.72272     1 2017-06-01   \n",
       "C     33.5000   25.00000  111.000000  7.50000  4.69000     5 2017-06-01   \n",
       "C     26.5097   23.64615   98.421912  7.86268  4.72272     1 2017-06-01   \n",
       "\n",
       "         Until         search_name  \\\n",
       "Pos                                  \n",
       "C   2018-04-20          sean welsh   \n",
       "C   2018-04-20     coleman shelton   \n",
       "C   2018-04-20        frank ragnow   \n",
       "C   2018-04-20  scott quessenberry   \n",
       "C   2018-04-20         billy price   \n",
       "\n",
       "                                                                                                                                                                                                       stats  \n",
       "Pos                                                                                                                                                                                                           \n",
       "C                                                                                                                                                                                                        NaN  \n",
       "C    [coleman shelton, {'g': '3', 'tackles_solo': '7', 'tackles_assists': '2', 'tackles_total': '9', 'tackles_loss': '1.0', 'sacks': '1.0', 'def_int': '0', 'def_int_yds': '0', 'def_int_yds_per_int': ''...  \n",
       "C    [frank ragnow, {'g': '1', 'tackles_solo': '1', 'tackles_assists': '0', 'tackles_total': '1', 'tackles_loss': '0.0', 'sacks': '0.0', 'def_int': '0', 'def_int_yds': '0', 'def_int_yds_per_int': '', '...  \n",
       "C    [scott quessenberry, {'g': '', 'tackles_solo': '', 'tackles_assists': '', 'tackles_total': '', 'tackles_loss': '', 'sacks': '', 'def_int': '', 'def_int_yds': '', 'def_int_yds_per_int': '', 'def_in...  \n",
       "C    [billy price, {'g': '1', 'tackles_solo': '1', 'tackles_assists': '0', 'tackles_total': '1', 'tackles_loss': '0.0', 'sacks': '0.0', 'def_int': '0', 'def_int_yds': '0', 'def_int_yds_per_int': '', 'd...  "
      ]
     },
     "execution_count": 2,
     "metadata": {},
     "output_type": "execute_result"
    }
   ],
   "source": [
    "with open('new_df.pkl', 'rb') as f:\n",
    "    new_df = pickle.load(f)\n",
    "new_df.head()"
   ]
  },
  {
   "cell_type": "code",
   "execution_count": 3,
   "metadata": {},
   "outputs": [
    {
     "data": {
      "text/plain": [
       "(6319, 17)"
      ]
     },
     "execution_count": 3,
     "metadata": {},
     "output_type": "execute_result"
    }
   ],
   "source": [
    "new_df.shape"
   ]
  },
  {
   "cell_type": "code",
   "execution_count": null,
   "metadata": {},
   "outputs": [],
   "source": [
    "#split_names = [i.split() for i in new_df.Player]\n",
    "#long_names = []\n",
    "#short_names = []\n",
    "#all_names = []\n",
    "#for i in split_names:\n",
    "#    temp = []\n",
    "#    for j in i:\n",
    "#        temp.append(j.replace('.', ''))\n",
    "#        \n",
    "#    all_names.append(' '.join(temp).lower())\n",
    "#    \n",
    "#    if len(temp) > 2:\n",
    "#        long_names.append(' '.join(temp).lower())\n",
    "#    else:\n",
    "#        short_names.append(' '.join(temp).lower())\n",
    "#new_df['search_name'] = all_names"
   ]
  },
  {
   "cell_type": "code",
   "execution_count": null,
   "metadata": {
    "code_folding": [],
    "scrolled": true
   },
   "outputs": [],
   "source": [
    "#soup_dict = {}\n",
    "#for i in new_df.search_name:\n",
    "#    try:\n",
    "#        name_list = i.split()\n",
    "#        if len(name_list) > 2:\n",
    "#            football_request = rq.get('https://www.sports-reference.com/cfb/players/{}-{}-{}-1.html'.format(name_list[0], name_list[1], name_list[2]))\n",
    "#            football_soup = bs(football_request.content, 'html.parser')\n",
    "#        else:\n",
    "#            football_request = rq.get('https://www.sports-reference.com/cfb/players/{}-{}-1.html'.format(name_list[0], name_list[1]))\n",
    "#            football_soup = bs(football_request.content, 'html.parser')\n",
    "#        parse_1 = football_soup.find_all('body', class_='cfb')\n",
    "#        parse_2 = [i.find_all('div', id='wrap') for i in parse_1][0]\n",
    "#        parse_3 = [i.find_all('div', id='content', role='main') for i in parse_2][0]\n",
    "#        parse_4 = [i.find_all('div', class_='table_wrapper') for i in parse_3][0]\n",
    "#        parse_5 = [i.find_all('div', class_='table_outer_container') for i in parse_4][0]\n",
    "#        parse_6 = [i.find_all('div', class_='overthrow table_container') for i in parse_5][0]\n",
    "#        parse_7 = [i.find_all('table', class_='sortable stats_table') for i in parse_6][0]\n",
    "#        parse_8 = [i.find_all('tbody') for i in parse_7][0]\n",
    "#        parse_9 = [i.find_all('tr') for i in parse_8][0]\n",
    "#        parse_10 = [i.find_all('td', class_='right') for i in parse_9][0]\n",
    "#        stats_dict = {}\n",
    "#        for j in parse_10:\n",
    "#            stat = str(j).split()[-1].split(\"\\\"\")[1]\n",
    "#            stats_dict[stat] = j.text\n",
    "#        soup_dict[i] = stats_dict\n",
    "#        print(\"Got stats for {}\".format(i))\n",
    "#    except:\n",
    "#        print(\"Failed to get stats for {}\".format(i))\n",
    "#        continue"
   ]
  },
  {
   "cell_type": "code",
   "execution_count": null,
   "metadata": {},
   "outputs": [],
   "source": [
    "#stats_arr = []\n",
    "#for i in new_df['search_name']:\n",
    "#    if i in soup_dict.keys():\n",
    "#        stats_arr.append([i,soup_dict[i]])\n",
    "#    else:\n",
    "#        stats_arr.append(np.nan)"
   ]
  },
  {
   "cell_type": "markdown",
   "metadata": {},
   "source": [
    "# Selenium scrape of NCAA"
   ]
  },
  {
   "cell_type": "code",
   "execution_count": null,
   "metadata": {},
   "outputs": [],
   "source": [
    "#driver = webdriver.Chrome()"
   ]
  },
  {
   "cell_type": "code",
   "execution_count": null,
   "metadata": {},
   "outputs": [],
   "source": [
    "#driver.get('http://web1.ncaa.org/stats/StatsSrv/careersearch?searchSport=MFB')"
   ]
  },
  {
   "cell_type": "code",
   "execution_count": null,
   "metadata": {},
   "outputs": [],
   "source": [
    "#find_1 = driver.find_elements_by_tag_name('tbody')\n",
    "#find_2 = [i.find_elements_by_tag_name('form') for i in find_1]\n"
   ]
  },
  {
   "cell_type": "code",
   "execution_count": null,
   "metadata": {},
   "outputs": [],
   "source": []
  },
  {
   "cell_type": "code",
   "execution_count": null,
   "metadata": {},
   "outputs": [],
   "source": [
    "#find_3 = find_2[1][0].find_elements_by_tag_name('input')#"
   ]
  },
  {
   "cell_type": "code",
   "execution_count": null,
   "metadata": {},
   "outputs": [],
   "source": []
  },
  {
   "cell_type": "code",
   "execution_count": null,
   "metadata": {},
   "outputs": [],
   "source": [
    "#driver = webdriver.Chrome()\n",
    "#stat_dict_ncaa = {}\n",
    "#for player in new_df['Player']:\n",
    "#    try:\n",
    "#        last_name = player.split()[1]\n",
    "#        first_name = player.split()[0]\n",
    "#        driver.get('http://web1.ncaa.org/stats/StatsSrv/careersearch?searchSport=MFB')\n",
    "#        find_1 = driver.find_elements_by_tag_name('tbody')\n",
    "#        find_2 = [i.find_elements_by_tag_name('form') for i in find_1]\n",
    "#        find_3 = find_2[1][0].find_elements_by_tag_name('input')\n",
    "#        find_3[1].send_keys(last_name)\n",
    "#        find_3[2].send_keys(first_name)\n",
    "#        ActionChains(driver).move_to_element(find_3[5]).click().perform()\n",
    "#        results_find_1 = driver.find_elements_by_name('results')\n",
    "#        results_find_2 = results_find_1[0].find_elements_by_tag_name('a')\n",
    "#        ActionChains(driver).move_to_element(results_find_2[4]).click().perform()\n",
    "#        player_find_1 = driver.find_elements_by_tag_name('tbody')\n",
    "#        player_find_2 = player_find_1[2].find_elements_by_tag_name('tr')\n",
    "#        stat_name = player_find_2[2].text.split()\n",
    "#        stat_val = player_find_2[-1].text.split()[2:]\n",
    "#        if len(stat_name) == len(stat_val):\n",
    "#            print(\"equal\")\n",
    "#            stats_series = pd.Series(data=stat_val, index=stat_name)\n",
    "#        #elif len(stat_name) > len(stat_val):\n",
    "#        #    print(\"name > val\")\n",
    "#        #    for i in range(5):\n",
    "#        #        stat_val = stat_val[i:]\n",
    "#        #        if len(stat_name) == len(stat_val):\n",
    "#        #            stats_series = pd.Series(data=stat_val, index=stat_name)\n",
    "#        #            break\n",
    "#        #elif len(stat_name) < len(stat_val):\n",
    "#        #    print(\"name < val\")\n",
    "#        #    for i in range(5):\n",
    "#        #        stat_name = stat_name[i:]\n",
    "#        #        if len(stat_name) == len(stat_val):\n",
    "#        #            stats_series = pd.Series(data=stat_val, index=stat_name)\n",
    "#        #            break\n",
    "#        stat_dict_ncaa[player] = stats_series\n",
    "#        print('got something')\n",
    "#    except:\n",
    "#        continue"
   ]
  },
  {
   "cell_type": "code",
   "execution_count": null,
   "metadata": {},
   "outputs": [],
   "source": []
  },
  {
   "cell_type": "code",
   "execution_count": null,
   "metadata": {},
   "outputs": [],
   "source": [
    "with open('ESPN_stats.pkl', 'rb') as f:\n",
    "    stat_df_dict = pickle.load(f)"
   ]
  },
  {
   "cell_type": "code",
   "execution_count": null,
   "metadata": {
    "scrolled": true
   },
   "outputs": [],
   "source": [
    "stat_types = ['defense']# 'passing', 'rushing', 'receiving'\n",
    "\n",
    "years = [str(2007)]#[str(i) for i in range(2004,2020,1)][::-1]\n",
    "\n",
    "driver = webdriver.Chrome()\n",
    "\n",
    "for stat in stat_types:\n",
    "    \n",
    "    for year in years:\n",
    "        \n",
    "        entry = stat + year\n",
    "        if len(stat_df_dict[entry]) < 400:\n",
    "            \n",
    "            driver.get(\"https://www.espn.com/college-football/stats/player/_/view/{}/season/{}\".format(stat, year))\n",
    "            \n",
    "            find_1a = driver.find_elements_by_class_name('AnchorLink')\n",
    "            \n",
    "            if stat == 'passing':\n",
    "                print(stat, year)\n",
    "                num_cols = 11\n",
    "            elif stat == 'rushing':\n",
    "                print(stat, year)\n",
    "                num_cols = 6\n",
    "            elif stat == 'receiving':\n",
    "                print(stat, year)\n",
    "                nums_cols = 6\n",
    "            elif stat == 'defense':\n",
    "                num_cols = 12\n",
    "                print(stat, year)\n",
    "            else:\n",
    "                print(\"stat failed\")\n",
    "                \n",
    "            find_1b = driver.find_elements_by_class_name('ResponsiveTable')\n",
    "                \n",
    "            \n",
    "            for i in range(35):\n",
    "                try:\n",
    "                    find_1c = driver.find_elements_by_class_name('tc')\n",
    "                    show_more = find_1c[-1].find_elements_by_tag_name('a')[0]\n",
    "                    ActionChains(driver).move_to_element(show_more).click().perform()\n",
    "                    time.sleep(3)\n",
    "                except:\n",
    "                    break\n",
    "                    \n",
    "            find_2b1 = find_1b[0].find_elements_by_tag_name('tbody')\n",
    "            find_2b2 = find_1b[0].find_elements_by_tag_name('thead')\n",
    "            col_names = find_2b2[-1].find_elements_by_tag_name('tr')[0].text.split()\n",
    "            print(col_names)\n",
    "            find_names = find_2b1[0].find_elements_by_tag_name('td')\n",
    "            find_stats = find_2b1[1].find_elements_by_tag_name('td')\n",
    "            print('here_1')\n",
    "            names = []\n",
    "            chunks = []\n",
    "            vals = []\n",
    "    \n",
    "            for i, j in enumerate(find_names):\n",
    "                if i%2 == 1:\n",
    "                    print(j.text)\n",
    "                    names.append(j.text)\n",
    "            for i, j in enumerate(find_stats):\n",
    "                vals.append(j.text)\n",
    "                count = i+1\n",
    "                if count%num_cols == 0:\n",
    "                    chunks.append(vals)\n",
    "                    vals = []\n",
    "            print('here_2')\n",
    "            some_df = pd.DataFrame(data=chunks, index=names, columns=col_names)\n",
    "            stat_df_dict[entry] = some_df\n",
    "            print(len(stat_df_dict[entry]))\n",
    "            some_df = pd.DataFrame()\n",
    "            print(entry)\n",
    "stat_df_dict"
   ]
  },
  {
   "cell_type": "code",
   "execution_count": null,
   "metadata": {},
   "outputs": [],
   "source": [
    "with open('ESPN_stats.pkl', 'wb') as f:\n",
    "    pickle.dump(stat_df_dict, f)"
   ]
  },
  {
   "cell_type": "code",
   "execution_count": null,
   "metadata": {},
   "outputs": [],
   "source": [
    "with open('ESPN_stats.pkl', 'rb') as f:\n",
    "    test_df = pickle.load(f)"
   ]
  },
  {
   "cell_type": "code",
   "execution_count": null,
   "metadata": {},
   "outputs": [],
   "source": [
    "test_df[\"defense2007\"]"
   ]
  },
  {
   "cell_type": "code",
   "execution_count": null,
   "metadata": {},
   "outputs": [],
   "source": [
    "defense_df = pd.concat([i[1] for i in test_df.items() if i[0][0] == 'd'])\n",
    "passing_df = pd.concat([i[1] for i in test_df.items() if i[0][0] == 'p'])\n",
    "rushing_df = pd.concat([i[1] for i in test_df.items() if i[0][:2] == 'ru'])\n",
    "receiving_df = pd.concat([i[1] for i in test_df.items() if i[0][:2] == 're'])"
   ]
  },
  {
   "cell_type": "code",
   "execution_count": null,
   "metadata": {},
   "outputs": [],
   "source": [
    "defense_df"
   ]
  },
  {
   "cell_type": "code",
   "execution_count": null,
   "metadata": {},
   "outputs": [],
   "source": [
    "lens = [(i[0], len(i[1])) for i in stat_df_dict.items()]\n",
    "lens"
   ]
  },
  {
   "cell_type": "code",
   "execution_count": null,
   "metadata": {},
   "outputs": [],
   "source": [
    "len(stat_df_dict['defense2004'])"
   ]
  },
  {
   "cell_type": "code",
   "execution_count": null,
   "metadata": {},
   "outputs": [],
   "source": []
  }
 ],
 "metadata": {
  "kernelspec": {
   "display_name": "Python 3",
   "language": "python",
   "name": "python3"
  },
  "language_info": {
   "codemirror_mode": {
    "name": "ipython",
    "version": 3
   },
   "file_extension": ".py",
   "mimetype": "text/x-python",
   "name": "python",
   "nbconvert_exporter": "python",
   "pygments_lexer": "ipython3",
   "version": "3.6.10"
  },
  "toc": {
   "base_numbering": 1,
   "nav_menu": {},
   "number_sections": true,
   "sideBar": true,
   "skip_h1_title": false,
   "title_cell": "Table of Contents",
   "title_sidebar": "Contents",
   "toc_cell": false,
   "toc_position": {
    "height": "calc(100% - 180px)",
    "left": "10px",
    "top": "150px",
    "width": "165px"
   },
   "toc_section_display": true,
   "toc_window_display": true
  }
 },
 "nbformat": 4,
 "nbformat_minor": 4
}
